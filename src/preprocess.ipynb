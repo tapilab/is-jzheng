{
 "cells": [
  {
   "cell_type": "markdown",
   "metadata": {},
   "source": [
    "Preprocess raw comments from tripadvisor\n",
    "\n",
    "input : multiple lines of JSON file. Each line is a JSON object.\n",
    "\n",
    "There are several keys in JSON object , and the value of 'text' is a comment.\n"
   ]
  },
  {
   "cell_type": "code",
   "execution_count": 1,
   "metadata": {
    "collapsed": true
   },
   "outputs": [],
   "source": [
    "import json\n",
    "import codecs\n",
    "import re\n",
    "import string"
   ]
  },
  {
   "cell_type": "code",
   "execution_count": 2,
   "metadata": {
    "collapsed": true
   },
   "outputs": [],
   "source": [
    "def load_file(path):\n",
    "    \"\"\"\n",
    "        load file from raw txt file\n",
    "        rtype: list(str)\n",
    "    \"\"\"\n",
    "    with codecs.open(path,encoding=\"utf-8\") as file:\n",
    "        lines = file.readlines()\n",
    "    res = []\n",
    "    for line in lines:\n",
    "        line = json.loads(line)['text'].lower()\n",
    "        line = re.sub(r'\\n|\\t', ' ', line)\n",
    "        line = line.encode('utf-8') \n",
    "        line = line.strip().translate(None, string.punctuation)\n",
    "        res.append(line)\n",
    "    return res"
   ]
  },
  {
   "cell_type": "code",
   "execution_count": 3,
   "metadata": {
    "collapsed": true
   },
   "outputs": [],
   "source": [
    "def write_file(file , path):\n",
    "    \"\"\"\n",
    "        write processed file to file at path\n",
    "        itype: file - list[str] , intermediate file from load_file(path)\n",
    "               path - str   , path to store processed file.\n",
    "        rtype: None\n",
    "    \"\"\"\n",
    "    f = codecs.open(path , \"w\" )\n",
    "    for l in file:\n",
    "        f.write(l)\n",
    "        f.write(\"\\n\")\n",
    "    f.close()\n",
    "\n"
   ]
  },
  {
   "cell_type": "code",
   "execution_count": 4,
   "metadata": {
    "collapsed": false
   },
   "outputs": [],
   "source": [
    "path = \"./dummy/reviews.txt\"\n",
    "path_write = \"./dummy/processed_reviews.txt\"\n",
    "comments = load_file(path)\n",
    "write_file(comments, path_write)"
   ]
  },
  {
   "cell_type": "code",
   "execution_count": 5,
   "metadata": {
    "collapsed": false
   },
   "outputs": [
    {
     "name": "stdout",
     "output_type": "stream",
     "text": [
      "Processed 10000 comments.\n"
     ]
    }
   ],
   "source": [
    "print \"Processed %d comments.\" % (len(comments))"
   ]
  },
  {
   "cell_type": "code",
   "execution_count": null,
   "metadata": {
    "collapsed": true
   },
   "outputs": [],
   "source": []
  }
 ],
 "metadata": {
  "kernelspec": {
   "display_name": "Python 2",
   "language": "python",
   "name": "python2"
  },
  "language_info": {
   "codemirror_mode": {
    "name": "ipython",
    "version": 2
   },
   "file_extension": ".py",
   "mimetype": "text/x-python",
   "name": "python",
   "nbconvert_exporter": "python",
   "pygments_lexer": "ipython2",
   "version": "2.7.10"
  }
 },
 "nbformat": 4,
 "nbformat_minor": 0
}
