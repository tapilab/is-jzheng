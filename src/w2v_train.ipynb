{
 "cells": [
  {
   "cell_type": "markdown",
   "metadata": {},
   "source": [
    "\n",
    "This file is used to train word2vec vector.    \n",
    "About [word2vec](https://code.google.com/archive/p/word2vec/)\n",
    "\n"
   ]
  },
  {
   "cell_type": "code",
   "execution_count": 5,
   "metadata": {
    "collapsed": true
   },
   "outputs": [],
   "source": [
    "import logging\n",
    "import os.path\n",
    "import sys\n",
    "import multiprocessing\n",
    "#import gensim.models.word2vec\n",
    "\n",
    "from gensim.models.word2vec import Word2Vec\n",
    "from gensim.models.word2vec import LineSentence"
   ]
  },
  {
   "cell_type": "code",
   "execution_count": 6,
   "metadata": {
    "collapsed": false
   },
   "outputs": [
    {
     "name": "stderr",
     "output_type": "stream",
     "text": [
      "INFO:__main__.py:running /Library/Python/2.7/site-packages/ipykernel/__main__.py -f /Users/JaySurplus/Library/Jupyter/runtime/kernel-d7b1cb20-e96a-46c3-9208-ab5b53cd15a5.json\n",
      "INFO:gensim.models.word2vec:collecting all words and their counts\n",
      "INFO:gensim.models.word2vec:PROGRESS: at sentence #0, processed 0 words, keeping 0 word types\n",
      "INFO:gensim.models.word2vec:collected 38253 word types from a corpus of 1424772 raw words and 10000 sentences\n",
      "INFO:gensim.models.word2vec:min_count=5 retains 8640 unique words (drops 29613)\n",
      "INFO:gensim.models.word2vec:min_count leaves 1382119 word corpus (97% of original 1424772)\n",
      "INFO:gensim.models.word2vec:deleting the raw counts dictionary of 38253 items\n",
      "INFO:gensim.models.word2vec:sample=0.001 downsamples 53 most-common words\n",
      "INFO:gensim.models.word2vec:downsampling leaves estimated 994317 word corpus (71.9% of prior 1382119)\n",
      "INFO:gensim.models.word2vec:estimated required memory for 8640 words and 200 dimensions: 18144000 bytes\n",
      "INFO:gensim.models.word2vec:resetting layer weights\n",
      "INFO:gensim.models.word2vec:training model with 4 workers on 8640 vocabulary and 200 features, using sg=0 hs=0 sample=0.001 negative=5\n",
      "INFO:gensim.models.word2vec:expecting 10000 sentences, matching count from corpus used for vocabulary survey\n",
      "INFO:gensim.models.word2vec:PROGRESS: at 11.04% examples, 558845 words/s, in_qsize 6, out_qsize 1\n",
      "INFO:gensim.models.word2vec:PROGRESS: at 23.60% examples, 584881 words/s, in_qsize 6, out_qsize 0\n",
      "INFO:gensim.models.word2vec:PROGRESS: at 35.88% examples, 588593 words/s, in_qsize 7, out_qsize 0\n",
      "INFO:gensim.models.word2vec:PROGRESS: at 48.14% examples, 595044 words/s, in_qsize 7, out_qsize 0\n",
      "INFO:gensim.models.word2vec:PROGRESS: at 60.77% examples, 599463 words/s, in_qsize 7, out_qsize 0\n",
      "INFO:gensim.models.word2vec:PROGRESS: at 72.63% examples, 598650 words/s, in_qsize 7, out_qsize 0\n",
      "INFO:gensim.models.word2vec:PROGRESS: at 85.02% examples, 599283 words/s, in_qsize 7, out_qsize 0\n",
      "INFO:gensim.models.word2vec:PROGRESS: at 95.40% examples, 588637 words/s, in_qsize 7, out_qsize 0\n",
      "INFO:gensim.models.word2vec:worker thread finished; awaiting finish of 3 more threads\n",
      "INFO:gensim.models.word2vec:worker thread finished; awaiting finish of 2 more threads\n",
      "INFO:gensim.models.word2vec:worker thread finished; awaiting finish of 1 more threads\n",
      "INFO:gensim.models.word2vec:worker thread finished; awaiting finish of 0 more threads\n",
      "INFO:gensim.models.word2vec:training on 7123860 raw words (4971002 effective words) took 8.6s, 580363 effective words/s\n",
      "INFO:gensim.utils:saving Word2Vec object under ./dummy/model.model, separately None\n",
      "INFO:gensim.utils:not storing attribute syn0norm\n",
      "INFO:gensim.utils:not storing attribute cum_table\n",
      "INFO:gensim.models.word2vec:storing 8640x200 projection weights into ./dummy/vector.txt\n"
     ]
    }
   ],
   "source": [
    "if __name__ == '__main__':\n",
    "    program = os.path.basename(sys.argv[0])\n",
    "    logger = logging.getLogger(program)\n",
    "\n",
    "    logging.basicConfig(format='%(asctime)s: %(levelname)s: %(message)s')\n",
    "    logging.root.setLevel(level=logging.INFO)\n",
    "    logger.info(\"running %s\" % ' '.join(sys.argv))\n",
    "\n",
    "\n",
    "\n",
    "    file_path = \"./dummy/processed_reviews.txt\"\n",
    "\n",
    "    model_path = \"./dummy/model.model\"\n",
    "    vector_path = \"./dummy/vector.txt\"\n",
    "\n",
    "    \n",
    "    count = multiprocessing.cpu_count()\n",
    "    model = Word2Vec(LineSentence(file_path),size=200, window=10, min_count=5, workers=count)\n",
    "\n",
    "    model.save(model_path)\n",
    "    model.save_word2vec_format(vector_path, binary=False)"
   ]
  },
  {
   "cell_type": "code",
   "execution_count": 10,
   "metadata": {
    "collapsed": false
   },
   "outputs": [
    {
     "name": "stderr",
     "output_type": "stream",
     "text": [
      "INFO:gensim.models.word2vec:loading projection weights from ./dummy/vector.txt\n",
      "INFO:gensim.models.word2vec:loaded (8640, 200) matrix from ./dummy/vector.txt\n",
      "INFO:gensim.models.word2vec:precomputing L2-norms of word weight vectors\n"
     ]
    },
    {
     "data": {
      "text/plain": [
       "[(u'queen', 0.8998591899871826),\n",
       " (u'deluxe', 0.8928799629211426),\n",
       " (u'double', 0.8741847276687622),\n",
       " (u'pullout', 0.8364671468734741),\n",
       " (u'suite', 0.8344507217407227),\n",
       " (u'junior', 0.826301097869873),\n",
       " (u'twin', 0.8189259171485901),\n",
       " (u'upgraded', 0.7928529977798462),\n",
       " (u'studio', 0.7852340340614319),\n",
       " (u'cityview', 0.7741087079048157)]"
      ]
     },
     "execution_count": 10,
     "metadata": {},
     "output_type": "execute_result"
    }
   ],
   "source": [
    "\"\"\"\n",
    "Testing word2vec vector\n",
    "\n",
    "\"\"\"\n",
    "model = Word2Vec.load_word2vec_format('./dummy/vector.txt', binary=False)\n",
    "\n",
    "model.most_similar('king')"
   ]
  },
  {
   "cell_type": "code",
   "execution_count": 15,
   "metadata": {
    "collapsed": false
   },
   "outputs": [
    {
     "data": {
      "text/plain": [
       "[(u'equipment', 0.6470780372619629),\n",
       " (u'fitness', 0.6273806095123291),\n",
       " (u'workout', 0.6220968961715698),\n",
       " (u'weights', 0.6202228665351868),\n",
       " (u'adequate', 0.6176875829696655),\n",
       " (u'facility', 0.6097884774208069),\n",
       " (u'outdoor', 0.5975462198257446),\n",
       " (u'quite', 0.5851249098777771),\n",
       " (u'lounge', 0.5847529768943787),\n",
       " (u'basic', 0.5780242681503296)]"
      ]
     },
     "execution_count": 15,
     "metadata": {},
     "output_type": "execute_result"
    }
   ],
   "source": [
    "model.most_similar(positive=['pool', 'gym'] , negative=['swim'])"
   ]
  },
  {
   "cell_type": "code",
   "execution_count": 17,
   "metadata": {
    "collapsed": false
   },
   "outputs": [
    {
     "data": {
      "text/plain": [
       "[(u'cab', 0.8215907216072083),\n",
       " (u'taxi', 0.8048601150512695),\n",
       " (u'catch', 0.7325971126556396),\n",
       " (u'van', 0.723381757736206),\n",
       " (u'ride', 0.7149031162261963),\n",
       " (u'take', 0.6885027885437012),\n",
       " (u'shuttle', 0.6788942217826843),\n",
       " (u'drop', 0.6787338256835938),\n",
       " (u'bus', 0.6777344942092896),\n",
       " (u'drive', 0.6763275265693665)]"
      ]
     },
     "execution_count": 17,
     "metadata": {},
     "output_type": "execute_result"
    }
   ],
   "source": [
    "model.most_similar(['spa','internet','pool','gym'])"
   ]
  },
  {
   "cell_type": "code",
   "execution_count": null,
   "metadata": {
    "collapsed": true
   },
   "outputs": [],
   "source": []
  }
 ],
 "metadata": {
  "kernelspec": {
   "display_name": "Python 2",
   "language": "python",
   "name": "python2"
  },
  "language_info": {
   "codemirror_mode": {
    "name": "ipython",
    "version": 2
   },
   "file_extension": ".py",
   "mimetype": "text/x-python",
   "name": "python",
   "nbconvert_exporter": "python",
   "pygments_lexer": "ipython2",
   "version": "2.7.10"
  }
 },
 "nbformat": 4,
 "nbformat_minor": 0
}
